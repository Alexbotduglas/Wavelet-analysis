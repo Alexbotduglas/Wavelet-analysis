{
 "cells": [
  {
   "cell_type": "markdown",
   "metadata": {},
   "source": [
    "# Решение задачи 3 (Дюсекеев 101М)\n",
    "# Вариант 5"
   ]
  },
  {
   "cell_type": "markdown",
   "metadata": {},
   "source": [
    "**Задание 3** \\\n",
    "$C_{1} =\\begin{pmatrix} 1&-1 \\\\ 1&-2 \\end{pmatrix}$"
   ]
  },
  {
   "cell_type": "markdown",
   "metadata": {},
   "source": [
    "Элемент пространства $V_{k}^{2} $ представлен матрицей $C_{k} $ коэффициентов в базисе, образованном вейвлетами Хаара. Найти матрицы коэффициентов разложения этого элемента по базису пространства $V_{k-1}^{2} \\oplus W_{k-1}^{2} $ и пространства $V_{0}^{2} \\bigoplus \\limits_{j=0}^{k-1} W_{j}^{2} $. Сделать проверку, используя алгоритм вейвлет-восстановления (данная матрица и матрица, полученная восстановлением, должны совпасть)."
   ]
  },
  {
   "cell_type": "markdown",
   "metadata": {},
   "source": [
    "Элемент пространства $V_{1}^{2} $ с матрицей коэффициентов $C_{1} =\\begin{pmatrix} 1&-1 \\\\ 1&-2 \\end{pmatrix}$ разложим по базису пространства $V_{0}^{2} \\oplus W_{0}^{2} $. Имеем\n",
    "\n",
    "$$\n",
    "{\\rm С}_{1} =\\begin{pmatrix} 1&-1 \\\\ 1&-2 \\end{pmatrix},~{\\rm P}_{1} =\\frac{1}{\\sqrt{2} } \\begin{pmatrix} 1\\\\1\\end{pmatrix},~{\\rm Q}_{1} =\\frac{1}{\\sqrt{2} } \\begin{pmatrix} 1\\\\-1 \\end{pmatrix}.\n",
    "$$\n",
    "\n",
    "Следовательно,\n",
    "\n",
    "$$\n",
    "{\\rm C}_{0} ={\\rm P}_{1}^{T} {\\rm C}_{1} {\\rm P}_{1} =\\left(-0,5\\right);~{\\rm R}_{0} ={\\rm Q}_{1}^{T} {\\rm C}_{1} {\\rm P}_{1} =\\left(0,5\\right);\n",
    "$$\n",
    "\n",
    "$$\n",
    "{\\rm H}_{0} ={\\rm P}_{1}^{T} {\\rm C}_{1} {\\rm Q}_{1} =\\left(2,5\\right);~{\\rm D}_{0} ={\\rm Q}_{1}^{T} {\\rm C}_{1} {\\rm Q}_{1} =\\left(-0.5\\right).\n",
    "$$\n",
    "\n",
    "\n",
    "\n"
   ]
  },
  {
   "cell_type": "code",
   "execution_count": 35,
   "metadata": {},
   "outputs": [
    {
     "name": "stdout",
     "output_type": "stream",
     "text": [
      "[[-0.5]]\n",
      "[[0.5]]\n",
      "[[2.5]]\n",
      "[[-0.5]]\n"
     ]
    }
   ],
   "source": [
    "\n",
    "C0 = np.array([[-0.5]])\n",
    "R0 = np.array([[0.5]])\n",
    "H0 = np.array([[2.5]])\n",
    "D0 = np.array([[-0.5]])\n",
    "print(C0)\n",
    "print(R0)\n",
    "print(H0)\n",
    "print(D0)\n"
   ]
  },
  {
   "cell_type": "code",
   "execution_count": 38,
   "metadata": {},
   "outputs": [
    {
     "name": "stdout",
     "output_type": "stream",
     "text": [
      "[[0.70710678]\n",
      " [0.70710678]]\n",
      "[[ 0.70710678]\n",
      " [-0.70710678]]\n"
     ]
    }
   ],
   "source": [
    "P1 = (1 / math.sqrt(2)) * np.array([[1],[1]])\n",
    "Q1 = (1 / math.sqrt(2)) * np.array([[1],[-1]])\n",
    "print(P1)\n",
    "print(Q1)"
   ]
  },
  {
   "cell_type": "markdown",
   "metadata": {},
   "source": [
    "Проверка\n",
    "\n",
    "$$\n",
    "{\\rm P}_{1} {\\rm C}_{0} {\\rm P}_{1}^{T} +{\\rm Q}_{1} {\\rm R}_{0} {\\rm P}_{1}^{T} +{\\rm P}_{1} {\\rm H}_{0} {\\rm Q}_{1}^{T} +{\\rm Q}_{1} {\\rm D}_{0} {\\rm Q}_{1}^{T} ={\\rm C}_{1}.\n",
    "$$"
   ]
  },
  {
   "cell_type": "code",
   "execution_count": 40,
   "metadata": {},
   "outputs": [
    {
     "name": "stdout",
     "output_type": "stream",
     "text": [
      "[[ 1. -1.]\n",
      " [ 1. -2.]]\n"
     ]
    }
   ],
   "source": [
    "C1 = (P1.dot(C0)).dot(np.transpose(P1))+(Q1.dot(R0)).dot(np.transpose(P1)) + (P1.dot(H0)).dot(np.transpose(Q1)) + (Q1.dot(D0)).dot(np.transpose(Q1))\n",
    "print(C1)"
   ]
  },
  {
   "cell_type": "code",
   "execution_count": null,
   "metadata": {},
   "outputs": [],
   "source": []
  },
  {
   "cell_type": "code",
   "execution_count": null,
   "metadata": {},
   "outputs": [],
   "source": []
  },
  {
   "cell_type": "code",
   "execution_count": null,
   "metadata": {},
   "outputs": [],
   "source": []
  },
  {
   "cell_type": "code",
   "execution_count": null,
   "metadata": {},
   "outputs": [],
   "source": []
  },
  {
   "cell_type": "code",
   "execution_count": null,
   "metadata": {},
   "outputs": [],
   "source": []
  },
  {
   "cell_type": "code",
   "execution_count": null,
   "metadata": {},
   "outputs": [],
   "source": []
  },
  {
   "cell_type": "code",
   "execution_count": null,
   "metadata": {},
   "outputs": [],
   "source": []
  },
  {
   "cell_type": "code",
   "execution_count": null,
   "metadata": {},
   "outputs": [],
   "source": []
  },
  {
   "cell_type": "code",
   "execution_count": null,
   "metadata": {},
   "outputs": [],
   "source": []
  },
  {
   "cell_type": "code",
   "execution_count": null,
   "metadata": {},
   "outputs": [],
   "source": []
  },
  {
   "cell_type": "code",
   "execution_count": null,
   "metadata": {},
   "outputs": [],
   "source": []
  }
 ],
 "metadata": {
  "kernelspec": {
   "display_name": "Python 3",
   "language": "python",
   "name": "python3"
  },
  "language_info": {
   "codemirror_mode": {
    "name": "ipython",
    "version": 3
   },
   "file_extension": ".py",
   "mimetype": "text/x-python",
   "name": "python",
   "nbconvert_exporter": "python",
   "pygments_lexer": "ipython3",
   "version": "3.8.5"
  }
 },
 "nbformat": 4,
 "nbformat_minor": 4
}
