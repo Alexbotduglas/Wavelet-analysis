{
 "cells": [
  {
   "cell_type": "markdown",
   "metadata": {},
   "source": [
    "# Решение задачи 1,3 (Дюсекеев 101М)\n",
    "# Вариант 5"
   ]
  },
  {
   "cell_type": "markdown",
   "metadata": {},
   "source": [
    "**Задание 1**\\\n",
    "$f(x)=-7\\chi _{[0;1/2)} (x)+3\\chi _{[1/2;1)} (x)$;"
   ]
  },
  {
   "cell_type": "markdown",
   "metadata": {},
   "source": [
    "Расщепите функцию $f(x)$ в сумму масштабирующей функции и вейвлета, т.е. представить в виде разложения по базису пространства $V_{0} \\oplus W_{0} $. Построить графики функции и разложения."
   ]
  },
  {
   "cell_type": "code",
   "execution_count": 1,
   "metadata": {},
   "outputs": [],
   "source": [
    "def Varphi(x):\n",
    "    '''\n",
    "    Масштабирующая функция\n",
    "    '''\n",
    "    y = 0\n",
    "    if (x >= 0 and x < 1):\n",
    "        y = 1\n",
    "    return y\n",
    "\n",
    "def Psi(x):\n",
    "    '''\n",
    "    Вейвлет Хаара\n",
    "    '''\n",
    "    return -Varphi(2 * x) + Varphi(2 * x - 1)\n",
    "\n",
    "def Varphi_jk(x, j, k):\n",
    "    return pow(2, j / 2) * Varphi(pow(2, j) * x - k)\n",
    "\n",
    "def Psi_jk(x, j, k):\n",
    "    return pow(2, j / 2) * Psi(pow(2, j) * x - k)"
   ]
  },
  {
   "cell_type": "code",
   "execution_count": 2,
   "metadata": {},
   "outputs": [],
   "source": [
    "import numpy as np                   # Массивы\n",
    "import math                          # Всякие нужные математические функции\n",
    "import matplotlib.pyplot as plt      # Для построения графиков\n",
    "%matplotlib inline"
   ]
  },
  {
   "cell_type": "code",
   "execution_count": 85,
   "metadata": {},
   "outputs": [
    {
     "name": "stdout",
     "output_type": "stream",
     "text": [
      "ПРОВЕРКА\n"
     ]
    },
    {
     "name": "stderr",
     "output_type": "stream",
     "text": [
      "<ipython-input-85-b494aa1e8d0c>:25: MatplotlibDeprecationWarning: Case-insensitive properties were deprecated in 3.3 and support will be removed two minor releases later\n",
      "  plt.plot(X, Y, '-r', LineWidth = 5, label = 'f')\n",
      "<ipython-input-85-b494aa1e8d0c>:26: MatplotlibDeprecationWarning: Case-insensitive properties were deprecated in 3.3 and support will be removed two minor releases later\n",
      "  plt.plot(X, Z, '-b', LineWidth = 2, label = 'g')\n"
     ]
    },
    {
     "data": {
      "text/plain": [
       "<matplotlib.legend.Legend at 0xe013be0>"
      ]
     },
     "execution_count": 85,
     "metadata": {},
     "output_type": "execute_result"
    },
    {
     "data": {
      "image/png": "[encoded data removed]",
      "text/plain": [
       "<Figure size 432x288 with 1 Axes>"
      ]
     },
     "metadata": {
      "needs_background": "light"
     },
     "output_type": "display_data"
    }
   ],
   "source": [
    "def f(x):\n",
    "    '''\n",
    "    Данная функция\n",
    "    '''\n",
    "    return -7 * Varphi(2 * x) + 3 * Varphi(2 * x - 1)\n",
    "\n",
    "def g(x):\n",
    "    '''\n",
    "    Вейвлет-разложение\n",
    "    '''\n",
    "    return -2 * Varphi(x) + 5 * Psi(x)\n",
    "\n",
    "# Строим графики\n",
    "print('ПРОВЕРКА')\n",
    "N = 50\n",
    "X = np.zeros(N)\n",
    "Y = np.zeros(N)\n",
    "Z = np.zeros(N)\n",
    "for i in range(N):\n",
    "    X[i] = i / (N - 1)\n",
    "    Y[i] = f(X[i])\n",
    "    Z[i] = g(X[i])\n",
    "\n",
    "plt.figure()\n",
    "plt.plot(X, Y, '-r', LineWidth = 5, label = 'f')\n",
    "plt.plot(X, Z, '-b', LineWidth = 2, label = 'g')\n",
    "plt.legend()"
   ]
  },
  {
   "cell_type": "code",
   "execution_count": null,
   "metadata": {},
   "outputs": [],
   "source": []
  }
 ],
 "metadata": {
  "kernelspec": {
   "display_name": "Python 3",
   "language": "python",
   "name": "python3"
  },
  "language_info": {
   "codemirror_mode": {
    "name": "ipython",
    "version": 3
   },
   "file_extension": ".py",
   "mimetype": "text/x-python",
   "name": "python",
   "nbconvert_exporter": "python",
   "pygments_lexer": "ipython3",
   "version": "3.8.5"
  }
 },
 "nbformat": 4,
 "nbformat_minor": 4
}
